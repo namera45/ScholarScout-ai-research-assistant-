{
 "cells": [
  {
   "cell_type": "markdown",
   "metadata": {},
   "source": [
    "# 🤖 AI-Powered Research Assistant\n",
    "\n",
    "**An intelligent multi-agent system that automates the entire research process:**\n",
    "\n",
    "- 🔎 **Scout Agent**: Automatically finds the most relevant research paper\n",
    "- ⚙️ **Analyst Agent**: Downloads, processes, and creates a searchable knowledge base\n",
    "- 🧠 **AI-Powered Knowledge Base**: Uses Google Gemini + ChromaDB for intelligent storage\n",
    "- 💬 **Interactive Q&A**: Ask any questions about the paper content\n",
    "- 📋 **Auto-Summary**: Generates comprehensive paper analysis\n",
    "\n",
    "**Technologies**: LangChain + Google Gemini + ChromaDB + SerpAPI"
   ]
  },
  {
   "cell_type": "code",
   "execution_count": 1,
   "metadata": {},
   "outputs": [
    {
     "name": "stdout",
     "output_type": "stream",
     "text": [
      "✅ API Keys configured!\n"
     ]
    }
   ],
   "source": [
    "# 🔧 Setup API Keys\n",
    "import os\n",
    "\n",
    "os.environ[\"GOOGLE_API_KEY\"] = \"YOUR_GOOGLE_API_KEY\"\n",
    "os.environ[\"SERPAPI_API_KEY\"] = \"YOUR_SERPAPI_API_KEY\"\n",
    "print(\"✅ API Keys configured!\")"
   ]
  },
  {
   "cell_type": "code",
   "execution_count": 2,
   "metadata": {},
   "outputs": [
    {
     "name": "stdout",
     "output_type": "stream",
     "text": [
      "✅ Libraries imported successfully!\n"
     ]
    }
   ],
   "source": [
    "# 📦 Import Required Libraries\n",
    "import requests\n",
    "import re\n",
    "import json\n",
    "from typing import List, Dict, Optional\n",
    "from langchain_community.utilities import SerpAPIWrapper\n",
    "from langchain_community.document_loaders import PyPDFLoader\n",
    "from langchain_text_splitters import RecursiveCharacterTextSplitter\n",
    "from langchain_community.vectorstores import Chroma\n",
    "from langchain_google_genai import GoogleGenerativeAIEmbeddings, ChatGoogleGenerativeAI\n",
    "from langchain.chains import RetrievalQA\n",
    "from langchain.schema import HumanMessage, SystemMessage\n",
    "\n",
    "print(\"✅ Libraries imported successfully!\")"
   ]
  },
  {
   "cell_type": "code",
   "execution_count": 3,
   "metadata": {},
   "outputs": [
    {
     "name": "stdout",
     "output_type": "stream",
     "text": [
      "🤖 AI Research Assistant initialized!\n",
      "   - Google Gemini LLM: Ready\n",
      "   - Embeddings Model: Ready\n",
      "   - Google Scholar Search: Ready\n"
     ]
    }
   ],
   "source": [
    "# 🧠 Initialize Core AI Components\n",
    "class AIResearchAssistant:\n",
    "    def __init__(self):\n",
    "        self.embeddings = GoogleGenerativeAIEmbeddings(model=\"models/embedding-001\")\n",
    "        self.llm = ChatGoogleGenerativeAI(model=\"gemini-2.5-pro\", temperature=0.1)\n",
    "        self.search_tool = SerpAPIWrapper(params={\"engine\": \"google_scholar\", \"hl\": \"en\"})\n",
    "        self.vectorstore = None\n",
    "        self.current_paper_info = None\n",
    "        \n",
    "        print(\"🤖 AI Research Assistant initialized!\")\n",
    "        print(\"   - Google Gemini LLM: Ready\")\n",
    "        print(\"   - Embeddings Model: Ready\")\n",
    "        print(\"   - Google Scholar Search: Ready\")\n",
    "\n",
    "# Initialize the assistant\n",
    "assistant = AIResearchAssistant()"
   ]
  },
  {
   "cell_type": "code",
   "execution_count": 9,
   "metadata": {},
   "outputs": [
    {
     "name": "stdout",
     "output_type": "stream",
     "text": [
      "🔎 ArXiv Scout Agent: Ready to find papers with guaranteed PDF access!\n"
     ]
    }
   ],
   "source": [
    "# 🔎 ArXiv Scout Agent: Reliable Paper Discovery\n",
    "class ArXivScoutAgent:\n",
    "    def __init__(self, assistant):\n",
    "        self.assistant = assistant\n",
    "        self.llm = assistant.llm\n",
    "    \n",
    "    def find_best_paper(self, topic: str) -> Dict:\n",
    "        \"\"\"ArXiv scout agent finds papers with guaranteed PDF access\"\"\"\n",
    "        print(f\"🔎 ArXiv Scout: Searching for papers on '{topic}'...\")\n",
    "        \n",
    "        try:\n",
    "            # Search ArXiv directly\n",
    "            search = arxiv.Search(\n",
    "                query=topic,\n",
    "                max_results=5,\n",
    "                sort_by=arxiv.SortCriterion.Relevance\n",
    "            )\n",
    "            \n",
    "            papers = []\n",
    "            print(\"   📚 Found papers:\")\n",
    "            \n",
    "            for i, result in enumerate(search.results()):\n",
    "                paper = {\n",
    "                    \"title\": result.title.strip(),\n",
    "                    \"authors\": \", \".join([author.name for author in result.authors[:3]]),\n",
    "                    \"summary\": result.summary[:200].strip() + \"...\",\n",
    "                    \"pdf_url\": result.pdf_url,\n",
    "                    \"published\": str(result.published.date()),\n",
    "                    \"categories\": \", \".join(result.categories)\n",
    "                }\n",
    "                papers.append(paper)\n",
    "                print(f\"      {i+1}. {paper['title'][:60]}...\")\n",
    "            \n",
    "            if not papers:\n",
    "                print(\"❌ No papers found on ArXiv for this topic\")\n",
    "                return self.get_fallback_paper(topic)\n",
    "            \n",
    "            # Select the most relevant paper (first one)\n",
    "            selected_paper = papers[0]\n",
    "            \n",
    "            paper_info = {\n",
    "                \"title\": selected_paper[\"title\"],\n",
    "                \"authors\": selected_paper[\"authors\"],\n",
    "                \"url\": selected_paper[\"pdf_url\"],\n",
    "                \"reason\": f\"Most relevant ArXiv paper. Published: {selected_paper['published']}\"\n",
    "            }\n",
    "            \n",
    "            print(f\"✅ Selected: {paper_info['title'][:60]}...\")\n",
    "            print(f\"   Authors: {paper_info['authors']}\")\n",
    "            print(f\"   PDF URL: {paper_info['url']}\")\n",
    "            \n",
    "            return paper_info\n",
    "            \n",
    "        except Exception as e:\n",
    "            print(f\"❌ ArXiv search error: {e}\")\n",
    "            return self.get_fallback_paper(topic)\n",
    "    \n",
    "    def get_fallback_paper(self, topic: str) -> Dict:\n",
    "        \"\"\"Fallback to known working papers\"\"\"\n",
    "        print(\"🔄 Using fallback paper selection...\")\n",
    "        \n",
    "        fallback_papers = {\n",
    "            \"machine learning\": {\n",
    "                \"title\": \"Attention Is All You Need\",\n",
    "                \"authors\": \"Vaswani et al.\",\n",
    "                \"url\": \"https://arxiv.org/pdf/1706.03762.pdf\",\n",
    "                \"reason\": \"Foundational transformer paper - highly relevant to ML\"\n",
    "            },\n",
    "            \"artificial intelligence\": {\n",
    "                \"title\": \"BERT: Pre-training of Deep Bidirectional Transformers\",\n",
    "                \"authors\": \"Devlin et al.\",\n",
    "                \"url\": \"https://arxiv.org/pdf/1810.04805.pdf\",\n",
    "                \"reason\": \"Influential AI language model paper\"\n",
    "            },\n",
    "            \"finance\": {\n",
    "                \"title\": \"Deep Learning for Finance: Deep Portfolios\",\n",
    "                \"authors\": \"Heaton et al.\",\n",
    "                \"url\": \"https://arxiv.org/pdf/1605.07230.pdf\",\n",
    "                \"reason\": \"AI applications in finance\"\n",
    "            }\n",
    "        }\n",
    "        \n",
    "        # Find best match\n",
    "        topic_lower = topic.lower()\n",
    "        for key, paper in fallback_papers.items():\n",
    "            if key in topic_lower or any(word in topic_lower for word in key.split()):\n",
    "                print(f\"✅ Fallback: {paper['title']}\")\n",
    "                return paper\n",
    "        \n",
    "        # Default fallback\n",
    "        default_paper = fallback_papers[\"machine learning\"]\n",
    "        print(f\"✅ Default fallback: {default_paper['title']}\")\n",
    "        return default_paper\n",
    "\n",
    "# Replace the original scout with ArXiv scout\n",
    "scout = ArXivScoutAgent(assistant)\n",
    "print(\"🔎 ArXiv Scout Agent: Ready to find papers with guaranteed PDF access!\")\n"
   ]
  },
  {
   "cell_type": "code",
   "execution_count": 10,
   "metadata": {},
   "outputs": [
    {
     "name": "stdout",
     "output_type": "stream",
     "text": [
      "⚙️ Analyst Agent: Ready to process papers!\n"
     ]
    }
   ],
   "source": [
    "# ⚙️ Analyst Agent: Intelligent Document Processing\n",
    "class AnalystAgent:\n",
    "    def __init__(self, assistant):\n",
    "        self.assistant = assistant\n",
    "        self.embeddings = assistant.embeddings\n",
    "    \n",
    "    def process_paper(self, paper_info: Dict) -> bool:\n",
    "        \"\"\"Analyst agent downloads and processes the paper into a knowledge base\"\"\"\n",
    "        print(f\"⚙️ Analyst Agent: Processing paper - {paper_info['title']}\")\n",
    "        \n",
    "        try:\n",
    "            # Download the paper\n",
    "            print(\"   📥 Downloading PDF...\")\n",
    "            response = requests.get(paper_info['url'], timeout=30)\n",
    "            filename = \"research_paper.pdf\"\n",
    "            \n",
    "            with open(filename, \"wb\") as f:\n",
    "                f.write(response.content)\n",
    "            \n",
    "            # Load and extract text\n",
    "            print(\"   📄 Extracting text from PDF...\")\n",
    "            loader = PyPDFLoader(filename)\n",
    "            documents = loader.load()\n",
    "            \n",
    "            # Split into chunks for better processing\n",
    "            print(\"   ✂️ Splitting document into chunks...\")\n",
    "            text_splitter = RecursiveCharacterTextSplitter(\n",
    "                chunk_size=1000,\n",
    "                chunk_overlap=200,\n",
    "                separators=[\"\\n\\n\", \"\\n\", \".\", \" \", \"\"]\n",
    "            )\n",
    "            splits = text_splitter.split_documents(documents)\n",
    "            \n",
    "            # Create AI-powered knowledge base\n",
    "            print(\"   🧠 Creating AI knowledge base with embeddings...\")\n",
    "            self.assistant.vectorstore = Chroma.from_documents(\n",
    "                documents=splits,\n",
    "                embedding=self.embeddings,\n",
    "                persist_directory=\"./research_knowledge_base\",\n",
    "                collection_name=\"research_paper\"\n",
    "            )\n",
    "            \n",
    "            # Store paper info\n",
    "            self.assistant.current_paper_info = paper_info\n",
    "            \n",
    "            # Cleanup\n",
    "            os.remove(filename)\n",
    "            \n",
    "            print(f\"✅ Analyst Agent: Successfully processed {len(splits)} chunks\")\n",
    "            print(\"   🎯 Knowledge base ready for Q&A!\")\n",
    "            return True\n",
    "            \n",
    "        except Exception as e:\n",
    "            print(f\"❌ Analyst Agent Error: {e}\")\n",
    "            return False\n",
    "\n",
    "# Initialize Analyst Agent\n",
    "analyst = AnalystAgent(assistant)\n",
    "print(\"⚙️ Analyst Agent: Ready to process papers!\")"
   ]
  },
  {
   "cell_type": "code",
   "execution_count": 11,
   "metadata": {},
   "outputs": [
    {
     "name": "stdout",
     "output_type": "stream",
     "text": [
      "💬 Q&A System: Ready for interactive questions!\n"
     ]
    }
   ],
   "source": [
    "# 💬 Interactive Q&A System\n",
    "class QASystem:\n",
    "    def __init__(self, assistant):\n",
    "        self.assistant = assistant\n",
    "        self.llm = assistant.llm\n",
    "    \n",
    "    def ask_question(self, question: str) -> str:\n",
    "        \"\"\"Ask any question about the processed paper\"\"\"\n",
    "        if not self.assistant.vectorstore:\n",
    "            return \"❌ No paper has been processed yet. Please run the research pipeline first.\"\n",
    "        \n",
    "        print(f\"❓ Question: {question}\")\n",
    "        \n",
    "        # Create retrieval-augmented generation chain\n",
    "        qa_chain = RetrievalQA.from_chain_type(\n",
    "            llm=self.llm,\n",
    "            chain_type=\"stuff\",\n",
    "            retriever=self.assistant.vectorstore.as_retriever(\n",
    "                search_kwargs={\"k\": 4}  # Retrieve top 4 relevant chunks\n",
    "            ),\n",
    "            return_source_documents=True\n",
    "        )\n",
    "        \n",
    "        result = qa_chain({\"query\": question})\n",
    "        \n",
    "        print(\"✅ Answer generated from paper content!\")\n",
    "        return result[\"result\"]\n",
    "    \n",
    "    def generate_summary(self) -> Dict[str, str]:\n",
    "        \"\"\"Generate comprehensive paper summary\"\"\"\n",
    "        if not self.assistant.vectorstore:\n",
    "            return {\"error\": \"No paper processed yet\"}\n",
    "        \n",
    "        print(\"📋 Generating comprehensive paper summary...\")\n",
    "        \n",
    "        summary_questions = {\n",
    "            \"Research Objective\": \"What is the main research question and objective of this paper?\",\n",
    "            \"Methodology\": \"What methodology and approach was used in this research?\",\n",
    "            \"Key Findings\": \"What are the key findings and main results of this study?\",\n",
    "            \"Conclusions\": \"What are the main conclusions and implications of this research?\",\n",
    "            \"Future Work\": \"What limitations are mentioned and what future work is suggested?\",\n",
    "            \"Applications\": \"What are the potential real-world applications of this research?\"\n",
    "        }\n",
    "        \n",
    "        summary = {}\n",
    "        for section, question in summary_questions.items():\n",
    "            print(f\"   📝 Analyzing: {section}...\")\n",
    "            answer = self.ask_question(question)\n",
    "            summary[section] = answer\n",
    "        \n",
    "        print(\"✅ Comprehensive summary generated!\")\n",
    "        return summary\n",
    "\n",
    "# Initialize Q&A System\n",
    "qa_system = QASystem(assistant)\n",
    "print(\"💬 Q&A System: Ready for interactive questions!\")"
   ]
  },
  {
   "cell_type": "code",
   "execution_count": 12,
   "metadata": {},
   "outputs": [
    {
     "name": "stdout",
     "output_type": "stream",
     "text": [
      "🚀 Research Pipeline: Ready to run!\n"
     ]
    }
   ],
   "source": [
    "# 🚀 Main Research Pipeline\n",
    "def run_research_pipeline(topic: str):\n",
    "    \"\"\"Complete automated research pipeline\"\"\"\n",
    "    print(f\"🚀 Starting AI Research Pipeline for: '{topic}'\")\n",
    "    print(\"=\" * 60)\n",
    "    \n",
    "    # Step 1: Scout finds the best paper\n",
    "    paper_info = scout.find_best_paper(topic)\n",
    "    if not paper_info:\n",
    "        print(\"❌ Pipeline failed: Could not find suitable paper\")\n",
    "        return False\n",
    "    \n",
    "    print(\"\\n\" + \"=\" * 60)\n",
    "    \n",
    "    # Step 2: Analyst processes the paper\n",
    "    success = analyst.process_paper(paper_info)\n",
    "    if not success:\n",
    "        print(\"❌ Pipeline failed: Could not process paper\")\n",
    "        return False\n",
    "    \n",
    "    print(\"\\n\" + \"=\" * 60)\n",
    "    print(\"🎉 Research Pipeline Complete!\")\n",
    "    print(f\"📚 Paper: {paper_info['title']}\")\n",
    "    print(f\"👥 Authors: {paper_info['authors']}\")\n",
    "    print(\"💬 Ready for Q&A and summary generation!\")\n",
    "    \n",
    "    return True\n",
    "\n",
    "print(\"🚀 Research Pipeline: Ready to run!\")"
   ]
  },
  {
   "cell_type": "markdown",
   "metadata": {},
   "source": [
    "## 🎯 Run the Complete Research Pipeline\n",
    "\n",
    "**This will automatically:**\n",
    "1. Find the most relevant research paper\n",
    "2. Download and process it into a knowledge base\n",
    "3. Make it ready for Q&A and summary generation"
   ]
  },
  {
   "cell_type": "code",
   "execution_count": 13,
   "metadata": {},
   "outputs": [
    {
     "name": "stdout",
     "output_type": "stream",
     "text": [
      "🚀 Starting AI Research Pipeline for: 'Artificial Intelligence in finance'\n",
      "============================================================\n",
      "🔎 ArXiv Scout: Searching for papers on 'Artificial Intelligence in finance'...\n",
      "   📚 Found papers:\n"
     ]
    },
    {
     "name": "stderr",
     "output_type": "stream",
     "text": [
      "C:\\Users\\Aagam\\AppData\\Local\\Temp\\ipykernel_21788\\2182276811.py:22: DeprecationWarning: The 'Search.results' method is deprecated, use 'Client.results' instead\n",
      "  for i, result in enumerate(search.results()):\n"
     ]
    },
    {
     "name": "stdout",
     "output_type": "stream",
     "text": [
      "      1. Impact of Artificial Intelligence on Economic Theory...\n",
      "      2. Does an artificial intelligence perform market manipulation ...\n",
      "      3. A Survey on Blockchain-based Supply Chain Finance with Progr...\n",
      "      4. Artificial Intelligence in the Service of Entrepreneurial Fi...\n",
      "      5. AI in Finance: Challenges, Techniques and Opportunities...\n",
      "✅ Selected: Impact of Artificial Intelligence on Economic Theory...\n",
      "   Authors: Tshilidzi Marwala\n",
      "   PDF URL: http://arxiv.org/pdf/1509.01213v1\n",
      "\n",
      "============================================================\n",
      "⚙️ Analyst Agent: Processing paper - Impact of Artificial Intelligence on Economic Theory\n",
      "   📥 Downloading PDF...\n",
      "   📄 Extracting text from PDF...\n",
      "   ✂️ Splitting document into chunks...\n",
      "   🧠 Creating AI knowledge base with embeddings...\n",
      "✅ Analyst Agent: Successfully processed 11 chunks\n",
      "   🎯 Knowledge base ready for Q&A!\n",
      "\n",
      "============================================================\n",
      "🎉 Research Pipeline Complete!\n",
      "📚 Paper: Impact of Artificial Intelligence on Economic Theory\n",
      "👥 Authors: Tshilidzi Marwala\n",
      "💬 Ready for Q&A and summary generation!\n",
      "\n",
      "🎉 SUCCESS! You can now:\n",
      "   💬 Ask questions using: qa_system.ask_question('your question')\n",
      "   📋 Generate summary using: qa_system.generate_summary()\n"
     ]
    }
   ],
   "source": [
    "# 🎯 Run the Pipeline - Change the topic to whatever you want to research!\n",
    "research_topic = \"Artificial Intelligence in finance\"\n",
    "\n",
    "# Run the complete pipeline\n",
    "success = run_research_pipeline(research_topic)\n",
    "\n",
    "if success:\n",
    "    print(\"\\n🎉 SUCCESS! You can now:\")\n",
    "    print(\"   💬 Ask questions using: qa_system.ask_question('your question')\")\n",
    "    print(\"   📋 Generate summary using: qa_system.generate_summary()\")\n",
    "else:\n",
    "    print(\"\\n❌ Pipeline failed. Please check the errors above.\")"
   ]
  },
  {
   "cell_type": "markdown",
   "metadata": {},
   "source": [
    "## 💬 Interactive Q&A Session\n",
    "\n",
    "**Ask any questions about the research paper!**"
   ]
  },
  {
   "cell_type": "code",
   "execution_count": 14,
   "metadata": {},
   "outputs": [
    {
     "name": "stdout",
     "output_type": "stream",
     "text": [
      "❓ Question: What is the main contribution of this research?\n"
     ]
    },
    {
     "name": "stderr",
     "output_type": "stream",
     "text": [
      "C:\\Users\\Aagam\\AppData\\Local\\Temp\\ipykernel_21788\\1693062923.py:24: LangChainDeprecationWarning: The method `Chain.__call__` was deprecated in langchain 0.1.0 and will be removed in 1.0. Use :meth:`~invoke` instead.\n",
      "  result = qa_chain({\"query\": question})\n"
     ]
    },
    {
     "name": "stdout",
     "output_type": "stream",
     "text": [
      "✅ Answer generated from paper content!\n",
      "\n",
      "🤖 Answer:\n",
      "\n"
     ]
    }
   ],
   "source": [
    "# 💬 Ask Questions About the Paper\n",
    "question = \"What is the main contribution of this research?\"\n",
    "answer = qa_system.ask_question(question)\n",
    "print(f\"\\n🤖 Answer:\\n{answer}\")"
   ]
  },
  {
   "cell_type": "code",
   "execution_count": 15,
   "metadata": {},
   "outputs": [
    {
     "name": "stdout",
     "output_type": "stream",
     "text": [
      "❓ Question: What datasets were used in this study ?\n",
      "✅ Answer generated from paper content!\n",
      "\n",
      "🤖 Answer:\n",
      "Based on the context provided, there is no mention of any specific datasets that were used. The text is a general discussion about the applications and impact of artificial intelligence, referencing several books and papers, but it does not describe a particular study or its methodology.\n"
     ]
    }
   ],
   "source": [
    "# 💬 Ask Another Question\n",
    "question = \"What datasets were used in this study ?\"\n",
    "answer = qa_system.ask_question(question)\n",
    "print(f\"\\n🤖 Answer:\\n{answer}\")"
   ]
  },
  {
   "cell_type": "code",
   "execution_count": 16,
   "metadata": {},
   "outputs": [
    {
     "name": "stdout",
     "output_type": "stream",
     "text": [
      "❓ Question: what significance did ai particularly improved in finance \\\n",
      "✅ Answer generated from paper content!\n",
      "\n",
      "🤖 Answer:\n",
      "Based on the provided text, artificial intelligence has had a significant impact on finance in the following ways:\n",
      "\n",
      "*   **Modeling Financial Instruments:** AI has been applied to model financial instruments such as stock markets, derivatives, and options.\n",
      "*   **Improving Market Efficiency:** AI challenges and influences the Efficient Market Hypothesis. While human traders are imperfect and have incomplete information, making markets less efficient, the introduction of AI-empowered computer traders helps overcome these limitations. The text states that the more AI traders there are, the more efficient the markets become.\n",
      "*   **Challenging Economic Theories:** AI's role as a decision-maker questions the applicability of theories like Prospect Theory, which is based on human decision-making processes of weighing potential gains against losses. The theory's relevance is questioned when the decision-maker is an AI machine.\n"
     ]
    }
   ],
   "source": [
    "# 💬 Ask Your Own Question\n",
    "your_question = input(\"❓ Enter your question about the paper: \")\n",
    "answer = qa_system.ask_question(your_question)\n",
    "print(f\"\\n🤖 Answer:\\n{answer}\")"
   ]
  },
  {
   "cell_type": "markdown",
   "metadata": {},
   "source": [
    "## 📋 Generate Comprehensive Summary\n",
    "\n",
    "**Get a detailed analysis of the entire paper**"
   ]
  },
  {
   "cell_type": "code",
   "execution_count": 17,
   "metadata": {},
   "outputs": [
    {
     "name": "stdout",
     "output_type": "stream",
     "text": [
      "📋 Generating comprehensive paper summary...\n",
      "   📝 Analyzing: Research Objective...\n",
      "❓ Question: What is the main research question and objective of this paper?\n",
      "✅ Answer generated from paper content!\n",
      "   📝 Analyzing: Methodology...\n",
      "❓ Question: What methodology and approach was used in this research?\n",
      "✅ Answer generated from paper content!\n",
      "   📝 Analyzing: Key Findings...\n",
      "❓ Question: What are the key findings and main results of this study?\n",
      "✅ Answer generated from paper content!\n",
      "   📝 Analyzing: Conclusions...\n",
      "❓ Question: What are the main conclusions and implications of this research?\n",
      "✅ Answer generated from paper content!\n",
      "   📝 Analyzing: Future Work...\n",
      "❓ Question: What limitations are mentioned and what future work is suggested?\n",
      "✅ Answer generated from paper content!\n",
      "   📝 Analyzing: Applications...\n",
      "❓ Question: What are the potential real-world applications of this research?\n",
      "✅ Answer generated from paper content!\n",
      "✅ Comprehensive summary generated!\n",
      "\n",
      "================================================================================\n",
      "📋 COMPREHENSIVE SUMMARY: Impact of Artificial Intelligence on Economic Theory\n",
      "================================================================================\n",
      "\n",
      "🔹 RESEARCH OBJECTIVE:\n",
      "----------------------------------------\n",
      "Based on the provided text, the main objective of the paper appears to be to explore and analyze how the advent of artificial intelligence impacts and challenges established economic theories and various societal sectors.\n",
      "\n",
      "The central research question seems to be: **How does the introduction of artificial intelligence alter or affect existing human-centric theories and practices, particularly in the economic sphere?**\n",
      "\n",
      "This is demonstrated by the author repeatedly questioning the validity of established theories when AI is introduced as a factor:\n",
      "\n",
      "*   **Efficient Market Hypothesis:** The paper asks what happens to this theory when market traders are not just people, but also \"artificial intelligence infused computer traders.\"\n",
      "*   **Prospect Theory:** It questions the applicability of this theory when the decision-maker is an \"artificial intelligent machine\" instead of a person.\n",
      "\n",
      "The paper also points to the broader impact of AI on manufacturing, conflict resolution, and engineering to support its exploration of AI's transformative effects.\n",
      "\n",
      "\n",
      "🔹 METHODOLOGY:\n",
      "----------------------------------------\n",
      "Based on the provided text, a specific research methodology or approach is not described. The text is a descriptive piece that reviews and summarizes the application and impact of artificial intelligence across various fields by citing the work of other researchers.\n",
      "\n",
      "For example, it mentions:\n",
      "*   **Marwala and Lagazio (2011)** applied artificial intelligence to model militarized interstate conflict.\n",
      "*   **Herbert Simon (1991)** observed the concept of bounded rationality.\n",
      "*   **Marwala (2013)** applied artificial intelligence to model economic and financial instruments.\n",
      "\n",
      "The text explains concepts and provides examples of AI's application, but it does not outline the methodology of a specific study.\n",
      "\n",
      "\n",
      "🔹 KEY FINDINGS:\n",
      "----------------------------------------\n",
      "Based on the provided text, here are the key points and arguments presented:\n",
      "\n",
      "*   **Impact on Manufacturing:** The application of artificial intelligence in the manufacturing industry to perform tasks previously done by humans will lead to extensive job losses.\n",
      "*   **Influence on Economic Theories:** AI is significantly influencing established economic theories.\n",
      "    *   **Efficient Market Hypothesis:** The text argues that markets become more efficient as more AI-empowered computer traders participate. The degree of market efficiency is directly related to the amount of AI traders.\n",
      "    *   **Prospect Theory:** The text questions the applicability of Prospect Theory when decision-makers are not just humans, but are either AI-assisted or entirely AI machines. The theory is based on how people weigh potential gains and losses, which may not apply to AI decision-makers.\n",
      "*   **Broad Applications of AI:** AI has extensive applications in complex social, political, and economic areas, including:\n",
      "    *   Designing routing algorithms for GPS.\n",
      "    *   Modeling and resolving militarized interstate conflicts.\n",
      "    *   Designing complex structures like aircraft.\n",
      "\n",
      "\n",
      "🔹 CONCLUSIONS:\n",
      "----------------------------------------\n",
      "Based on the text provided, the main conclusions and implications of the research are:\n",
      "\n",
      "*   **Increased Market Efficiency:** The presence of artificial intelligence-empowered computer traders in financial markets leads to more efficient markets. The degree of market efficiency is directly related to the number of these AI traders.\n",
      "\n",
      "*   **Challenges to Economic Theories:** The rise of AI challenges established economic theories that are based on human behavior.\n",
      "    *   **Efficient Market Hypothesis:** AI helps overcome the limitations of human traders (who are imperfect and have incomplete information), making markets more aligned with the hypothesis.\n",
      "    *   **Prospect Theory:** This theory, which is based on human decision-making when weighing gains and losses, may no longer be applicable when decisions are made by AI machines or humans assisted by them.\n",
      "\n",
      "*   **Extensive Job Losses in Manufacturing:** The application of AI to perform tasks previously done by humans will result in significant job losses in the manufacturing industry.\n",
      "\n",
      "*   **Broad Applications in Complex Fields:** AI has extensive applications beyond economics, including:\n",
      "    *   Designing complex structures like aircraft.\n",
      "    *   Modeling and resolving militarized interstate conflicts, a task that traditionally required human intuition.\n",
      "    *   Designing routing algorithms for GPS systems.\n",
      "\n",
      "\n",
      "🔹 FUTURE WORK:\n",
      "----------------------------------------\n",
      "Based on the text provided:\n",
      "\n",
      "**Limitations Mentioned:**\n",
      "\n",
      "The text mentions the limitations of human decision-making, as described by Herbert Simon's concept of \"Bounded Rationality.\" These limitations are:\n",
      "*   Humans do not have perfect and complete information to make a fully rational decision.\n",
      "*   Humans do not have the perfect brain to process information in a timely and efficient manner.\n",
      "*   The human brain is inconsistent, leading to inconsistent decisions.\n",
      "\n",
      "**Future Work Suggested:**\n",
      "\n",
      "The provided text does not mention or suggest any future work.\n",
      "\n",
      "\n",
      "🔹 APPLICATIONS:\n",
      "----------------------------------------\n",
      "Based on the text provided, the potential real-world applications of this research include:\n",
      "\n",
      "*   **Transportation:** Designing routing algorithms for GPS guides in cars.\n",
      "*   **Manufacturing:** Automating tasks that were previously performed by humans.\n",
      "*   **Political Science/Military:** Modeling militarized interstate conflicts and aiding in conflict resolution to secure peace.\n",
      "*   **Engineering:** Designing complex structures, such as aircraft.\n",
      "*   **Economics/Finance:** Using AI-empowered computer traders in financial markets, which could lead to more efficient markets.\n",
      "\n"
     ]
    }
   ],
   "source": [
    "# 📋 Generate Complete Paper Summary\n",
    "summary = qa_system.generate_summary()\n",
    "\n",
    "print(\"\\n\" + \"=\" * 200)\n",
    "print(f\"📋 COMPREHENSIVE SUMMARY: {assistant.current_paper_info['title']}\")\n",
    "print(\"=\" * 200)\n",
    "\n",
    "for section, content in summary.items():\n",
    "    print(f\"\\n🔹 {section.upper()}:\")\n",
    "    print(\"-\" * 40)\n",
    "    print(content)\n",
    "    print()"
   ]
  },
  {
   "cell_type": "markdown",
   "metadata": {},
   "source": [
    "## 🎉 Congratulations!\n",
    "\n",
    "You now have a fully functional AI Research Assistant that:\n",
    "\n",
    "✅ **Automatically finds** the most relevant research paper  \n",
    "✅ **Intelligently processes** it into a searchable knowledge base  \n",
    "✅ **Enables interactive Q&A** with the paper content  \n",
    "✅ **Generates comprehensive summaries** automatically  \n",
    "\n",
    "### 🔄 To Research Another Topic:\n",
    "Simply change the `research_topic` variable and run the pipeline again!\n",
    "\n",
    "### 💡 Pro Tips:\n",
    "- Ask specific questions for detailed answers\n",
    "- The system uses the actual paper content (not general knowledge)\n",
    "- All data is stored locally in ChromaDB for privacy\n",
    "- You can ask follow-up questions anytime"
   ]
  },
  {
   "cell_type": "code",
   "execution_count": null,
   "metadata": {},
   "outputs": [],
   "source": [
    "try:\n",
    "    import arxiv\n",
    "    print(\"✅ arxiv library installed\")\n",
    "except ImportError:\n",
    "    print(\"❌ Run: pip install arxiv\")\n"
   ]
  },
  {
   "cell_type": "code",
   "execution_count": null,
   "metadata": {},
   "outputs": [],
   "source": []
  }
 ],
 "metadata": {
  "kernelspec": {
   "display_name": ".venv",
   "language": "python",
   "name": "python3"
  },
  "language_info": {
   "codemirror_mode": {
    "name": "ipython",
    "version": 3
   },
   "file_extension": ".py",
   "mimetype": "text/x-python",
   "name": "python",
   "nbconvert_exporter": "python",
   "pygments_lexer": "ipython3",
   "version": "undefined.undefined.undefined"
  }
 },
 "nbformat": 4,
 "nbformat_minor": 2
}
